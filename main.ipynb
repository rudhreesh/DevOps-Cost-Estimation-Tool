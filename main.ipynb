{
 "cells": [
  {
   "cell_type": "code",
   "execution_count": 1,
   "id": "ac2ac270",
   "metadata": {},
   "outputs": [
    {
     "name": "stdout",
     "output_type": "stream",
     "text": [
      "Collecting watchdog\n",
      "  Downloading watchdog-6.0.0-cp310-cp310-macosx_11_0_arm64.whl.metadata (44 kB)\n",
      "Downloading watchdog-6.0.0-cp310-cp310-macosx_11_0_arm64.whl (89 kB)\n",
      "Installing collected packages: watchdog\n",
      "Successfully installed watchdog-6.0.0\n"
     ]
    }
   ],
   "source": [
    "! pip install watchdog"
   ]
  }
 ],
 "metadata": {
  "kernelspec": {
   "display_name": "myenv_3.10",
   "language": "python",
   "name": "python3"
  },
  "language_info": {
   "codemirror_mode": {
    "name": "ipython",
    "version": 3
   },
   "file_extension": ".py",
   "mimetype": "text/x-python",
   "name": "python",
   "nbconvert_exporter": "python",
   "pygments_lexer": "ipython3",
   "version": "3.10.18"
  }
 },
 "nbformat": 4,
 "nbformat_minor": 5
}
